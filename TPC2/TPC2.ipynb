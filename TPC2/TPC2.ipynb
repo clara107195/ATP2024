{
 "cells": [
  {
   "cell_type": "code",
   "execution_count": 2,
   "metadata": {},
   "outputs": [
    {
     "name": "stdout",
     "output_type": "stream",
     "text": [
      "O número que pensaste é o 77\n"
     ]
    }
   ],
   "source": [
    "#Fazer um programa que descubra o número que estás a pensar\n",
    "from random import randrange\n",
    "num=int(input(\"Introduz o número que estás a pensar [0-100]\"))\n",
    "min=0\n",
    "max=100\n",
    "prev=randrange(min,max)\n",
    "while prev!=num:\n",
    "    res=input(f\"O teu número é maior que {prev}? (s para sim)\")\n",
    "    if res==\"s\":\n",
    "        min=prev\n",
    "        prev=randrange(min,max)\n",
    "    else:\n",
    "        max=prev\n",
    "        prev=randrange(min,max)\n",
    "print(f\"O número que pensaste é o {prev}\")"
   ]
  },
  {
   "cell_type": "code",
   "execution_count": 2,
   "metadata": {},
   "outputs": [
    {
     "name": "stdout",
     "output_type": "stream",
     "text": [
      "O seu aplpite está CERTO!! O número é 39, acertou em 6 tentativas.\n"
     ]
    }
   ],
   "source": [
    "#Adivinhar o numero que o pc tem\n",
    "from random import randrange\n",
    "num=randrange(0,100)\n",
    "t=1\n",
    "prev=int(input(\"Introduza o seu palpite.[0-100]\"))\n",
    "while prev!=num:\n",
    "    if prev<num:\n",
    "        prev=int(input(f\"Palpite Errado: {prev} é menor que o número. Tente novamente.Introduza o seu novo palpite.\"))\n",
    "    else:\n",
    "        prev=int(input(f\"Palpite Errado:{prev} é maior que o número. Tente novamente.Introduza o seu novo palpite.\"))\n",
    "    t+=1\n",
    "print(f\"O seu aplpite está CERTO!! O número é {num}, acertou em {t} tentativas.\")"
   ]
  }
 ],
 "metadata": {
  "kernelspec": {
   "display_name": "Python 3",
   "language": "python",
   "name": "python3"
  },
  "language_info": {
   "codemirror_mode": {
    "name": "ipython",
    "version": 3
   },
   "file_extension": ".py",
   "mimetype": "text/x-python",
   "name": "python",
   "nbconvert_exporter": "python",
   "pygments_lexer": "ipython3",
   "version": "3.12.6"
  }
 },
 "nbformat": 4,
 "nbformat_minor": 2
}
